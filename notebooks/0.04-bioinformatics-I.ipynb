{
 "cells": [
  {
   "cell_type": "code",
   "execution_count": 1,
   "metadata": {},
   "outputs": [],
   "source": [
    "%load_ext autoreload\n",
    "%autoreload 2"
   ]
  },
  {
   "cell_type": "markdown",
   "metadata": {},
   "source": [
    "# IMPORTS"
   ]
  },
  {
   "cell_type": "code",
   "execution_count": 2,
   "metadata": {},
   "outputs": [],
   "source": [
    "import numpy as np\n",
    "\n",
    "from src.features.random_motif import (repeated_randomized_motif_search, repeated_gibbs_sampler)\n",
    "from src.data.io import read_text_from_file, print_list"
   ]
  },
  {
   "cell_type": "markdown",
   "metadata": {},
   "source": [
    "# PATHS & NAMES"
   ]
  },
  {
   "cell_type": "code",
   "execution_count": 3,
   "metadata": {},
   "outputs": [],
   "source": [
    "RAWFILE_FOLDER = \"../data/raw/bi_i/w4\"\n",
    "EDA_REPORT_FOLDER = \"../reports\""
   ]
  },
  {
   "cell_type": "markdown",
   "metadata": {},
   "source": [
    "# TESTS"
   ]
  },
  {
   "cell_type": "markdown",
   "metadata": {},
   "source": [
    "## test 1"
   ]
  },
  {
   "cell_type": "code",
   "execution_count": 24,
   "metadata": {},
   "outputs": [
    {
     "name": "stdout",
     "output_type": "stream",
     "text": [
      "GACTCGTTTCAAAAG CACATAAAACATAAG CCGTCGAAACATAAG CACGTTGAACATAAG CACGCGCCTCATAAG CAGTGGAAACATAAG CACGCTGCACATAAG CACGCGAAGTGTAAG CACGCGAAACAGGGG CACGCCTTACATAAG CACGCGATTGATAAG CACGCGAAACGGTAG CACGCGAAACATTCC CACGGATAACATAAG CACCACAAACATAAG CACGCGGTGCATAAG CACGCGAAAGTGAAG TACGCGAAACATAGT AGGGCGAAACATAAG TGCGCGAAACATAAC\n"
     ]
    }
   ],
   "source": [
    "params = read_text_from_file(f\"{RAWFILE_FOLDER}/dataset1.txt\")\n",
    "print_list(repeated_randomized_motif_search(params['param_2'].split(),\n",
    "                                            int(params['param_1'].split()[0]), \n",
    "                                            int(params['param_1'].split()[1]),\n",
    "                                            ))"
   ]
  },
  {
   "cell_type": "markdown",
   "metadata": {},
   "source": [
    "## test 2"
   ]
  },
  {
   "cell_type": "code",
   "execution_count": 7,
   "metadata": {},
   "outputs": [
    {
     "name": "stdout",
     "output_type": "stream",
     "text": [
      "CACTGCGCACCATGG TCCAATGCGGCTTCG TCCTCTAAGGCTTCG TAGGCCGCGGCTTCG TCCTGAACGGCTTCG TCCTCCGTTTCTTCG ACCTCCGCGGCTTAC TCCTCCGCGGCGCGG TCCTGTCCGGCTTCG TCCGTAGCGGCTTCG GACTCCGCGGCTTCT TCCTCCGCGTAATCG TCCTCCTGTGCTTCG GAGTCCGCGGCTTCG TCCTCCGCCCGTTCG TCCTCCTTTGCTTCG TCCTCTAAGGCTTCG TCAAACGCGGCTTCG TCCTCCGCGGGGCCG TCCTCCGCGGCTAAA\n"
     ]
    }
   ],
   "source": [
    "params = read_text_from_file(f\"{RAWFILE_FOLDER}/dataset2.txt\")\n",
    "print_list(repeated_gibbs_sampler(params['param_2'].split(),\n",
    "                                        int(params['param_1'].split()[0]), \n",
    "                                        int(params['param_1'].split()[1]),\n",
    "                                        int(params['param_1'].split()[2]),\n",
    "                                        ))"
   ]
  }
 ],
 "metadata": {
  "kernelspec": {
   "display_name": ".venv",
   "language": "python",
   "name": "python3"
  },
  "language_info": {
   "codemirror_mode": {
    "name": "ipython",
    "version": 3
   },
   "file_extension": ".py",
   "mimetype": "text/x-python",
   "name": "python",
   "nbconvert_exporter": "python",
   "pygments_lexer": "ipython3",
   "version": "3.10.9"
  }
 },
 "nbformat": 4,
 "nbformat_minor": 2
}
