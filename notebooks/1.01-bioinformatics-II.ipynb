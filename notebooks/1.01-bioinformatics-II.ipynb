{
 "cells": [
  {
   "cell_type": "code",
   "execution_count": 1,
   "metadata": {},
   "outputs": [],
   "source": [
    "%load_ext autoreload\n",
    "%autoreload 2"
   ]
  },
  {
   "cell_type": "markdown",
   "metadata": {},
   "source": [
    "# IMPORTS"
   ]
  },
  {
   "cell_type": "code",
   "execution_count": 1,
   "metadata": {},
   "outputs": [
    {
     "name": "stdout",
     "output_type": "stream",
     "text": [
      "The indegree of GTA is 0\n"
     ]
    }
   ],
   "source": [
    "import numpy as np\n",
    "import os\n",
    "from dotenv import load_dotenv\n",
    "\n",
    "from src.features.hamilton_graph import Graph, is_n_universal, construct_de_bruijn_graph, count_indegree"
   ]
  },
  {
   "cell_type": "code",
   "execution_count": 3,
   "metadata": {},
   "outputs": [
    {
     "data": {
      "text/plain": [
       "True"
      ]
     },
     "execution_count": 3,
     "metadata": {},
     "output_type": "execute_result"
    }
   ],
   "source": [
    "load_dotenv()"
   ]
  },
  {
   "cell_type": "code",
   "execution_count": 3,
   "metadata": {},
   "outputs": [],
   "source": [
    "# os.getenv('RAW_DATA_DIR')"
   ]
  },
  {
   "cell_type": "markdown",
   "metadata": {},
   "source": [
    "# TESTS"
   ]
  },
  {
   "cell_type": "markdown",
   "metadata": {},
   "source": [
    "## test 1"
   ]
  },
  {
   "cell_type": "code",
   "execution_count": 5,
   "metadata": {},
   "outputs": [
    {
     "name": "stdout",
     "output_type": "stream",
     "text": [
      "Adjacency List Representation of the Graph:\n",
      "1: 2, 3, 5\n",
      "2: 4, 5\n",
      "3: 1, 2, 5\n",
      "4: 1, 3\n",
      "5: 2, 4\n"
     ]
    }
   ],
   "source": [
    "adjacency_list = {\n",
    "    \"1\": [\"2\", \"3\", \"5\"],\n",
    "    \"2\": [\"4\", \"5\"],\n",
    "    \"3\": [\"1\", \"2\", \"5\"],\n",
    "    \"4\": [\"1\", \"3\"],\n",
    "    \"5\": [\"2\", \"4\"],\n",
    "}\n",
    "\n",
    "graph = Graph(adjacency_list)\n",
    "print(\"Adjacency List Representation of the Graph:\")\n",
    "print(graph)"
   ]
  },
  {
   "cell_type": "code",
   "execution_count": 9,
   "metadata": {},
   "outputs": [
    {
     "name": "stdout",
     "output_type": "stream",
     "text": [
      "The provided cycle is not a valid Hamiltonian cycle.\n"
     ]
    }
   ],
   "source": [
    "graph.display_hamiltonian_cycle(\"2 -> 4 -> 3 -> 5 -> 2\".split(\" -> \"))"
   ]
  },
  {
   "cell_type": "code",
   "execution_count": 10,
   "metadata": {},
   "outputs": [
    {
     "name": "stdout",
     "output_type": "stream",
     "text": [
      "1 -> 3 -> 2 -> 5 -> 4 -> 1\n"
     ]
    }
   ],
   "source": [
    "graph.display_hamiltonian_cycle(\"1 -> 3 -> 2 -> 5 -> 4 -> 1\".split(\" -> \"))"
   ]
  },
  {
   "cell_type": "code",
   "execution_count": 11,
   "metadata": {},
   "outputs": [
    {
     "name": "stdout",
     "output_type": "stream",
     "text": [
      "The provided cycle is not a valid Hamiltonian cycle.\n"
     ]
    }
   ],
   "source": [
    "graph.display_hamiltonian_cycle(\"1 -> 2 -> 4 -> 3 -> 5 -> 1\".split(\" -> \"))"
   ]
  },
  {
   "cell_type": "code",
   "execution_count": 12,
   "metadata": {},
   "outputs": [
    {
     "name": "stdout",
     "output_type": "stream",
     "text": [
      "1 -> 5 -> 2 -> 4 -> 3 -> 1\n"
     ]
    }
   ],
   "source": [
    "graph.display_hamiltonian_cycle(\"1 -> 5 -> 2 -> 4 -> 3 -> 1\".split(\" -> \"))"
   ]
  },
  {
   "cell_type": "markdown",
   "metadata": {},
   "source": [
    "## test 2"
   ]
  },
  {
   "cell_type": "code",
   "execution_count": 22,
   "metadata": {},
   "outputs": [
    {
     "data": {
      "text/plain": [
       "True"
      ]
     },
     "execution_count": 22,
     "metadata": {},
     "output_type": "execute_result"
    }
   ],
   "source": [
    "is_n_universal(\"1011100010\")"
   ]
  },
  {
   "cell_type": "code",
   "execution_count": 24,
   "metadata": {},
   "outputs": [
    {
     "data": {
      "text/plain": [
       "False"
      ]
     },
     "execution_count": 24,
     "metadata": {},
     "output_type": "execute_result"
    }
   ],
   "source": [
    "is_n_universal(\"1001101100\")"
   ]
  },
  {
   "cell_type": "code",
   "execution_count": 25,
   "metadata": {},
   "outputs": [
    {
     "data": {
      "text/plain": [
       "False"
      ]
     },
     "execution_count": 25,
     "metadata": {},
     "output_type": "execute_result"
    }
   ],
   "source": [
    "is_n_universal(\"0111010010\")"
   ]
  },
  {
   "cell_type": "code",
   "execution_count": 26,
   "metadata": {},
   "outputs": [
    {
     "data": {
      "text/plain": [
       "False"
      ]
     },
     "execution_count": 26,
     "metadata": {},
     "output_type": "execute_result"
    }
   ],
   "source": [
    "is_n_universal(\"0101010100\")"
   ]
  },
  {
   "cell_type": "code",
   "execution_count": 27,
   "metadata": {},
   "outputs": [
    {
     "data": {
      "text/plain": [
       "True"
      ]
     },
     "execution_count": 27,
     "metadata": {},
     "output_type": "execute_result"
    }
   ],
   "source": [
    "is_n_universal(\"0111010001\")"
   ]
  },
  {
   "cell_type": "code",
   "execution_count": 28,
   "metadata": {},
   "outputs": [
    {
     "data": {
      "text/plain": [
       "True"
      ]
     },
     "execution_count": 28,
     "metadata": {},
     "output_type": "execute_result"
    }
   ],
   "source": [
    "is_n_universal(\"0011101000\")"
   ]
  },
  {
   "cell_type": "markdown",
   "metadata": {},
   "source": [
    "## test 3"
   ]
  },
  {
   "cell_type": "code",
   "execution_count": 35,
   "metadata": {},
   "outputs": [
    {
     "data": {
      "text/plain": [
       "['GCGA',\n",
       " 'CAAG',\n",
       " 'AAGA',\n",
       " 'GCCG',\n",
       " 'ACAA',\n",
       " 'AGTA',\n",
       " 'TAGG',\n",
       " 'AGTA',\n",
       " 'ACGT',\n",
       " 'AGCC',\n",
       " 'TTCG',\n",
       " 'AGTT',\n",
       " 'AGTA',\n",
       " 'CGTA',\n",
       " 'GCGC',\n",
       " 'GCGA',\n",
       " 'GGTC',\n",
       " 'GCAT',\n",
       " 'AAGC',\n",
       " 'TAGA',\n",
       " 'ACAG',\n",
       " 'TAGA',\n",
       " 'TCCT',\n",
       " 'CCCC',\n",
       " 'GCGC',\n",
       " 'ATCC',\n",
       " 'AGTA',\n",
       " 'AAGA',\n",
       " 'GCGA',\n",
       " 'CGTA']"
      ]
     },
     "execution_count": 35,
     "metadata": {},
     "output_type": "execute_result"
    }
   ],
   "source": [
    "kmers = \"\"\"GCGA\n",
    "CAAG\n",
    "AAGA\n",
    "GCCG\n",
    "ACAA\n",
    "AGTA\n",
    "TAGG\n",
    "AGTA\n",
    "ACGT\n",
    "AGCC\n",
    "TTCG\n",
    "AGTT\n",
    "AGTA\n",
    "CGTA\n",
    "GCGC\n",
    "GCGA\n",
    "GGTC\n",
    "GCAT\n",
    "AAGC\n",
    "TAGA\n",
    "ACAG\n",
    "TAGA\n",
    "TCCT\n",
    "CCCC\n",
    "GCGC\n",
    "ATCC\n",
    "AGTA\n",
    "AAGA\n",
    "GCGA\n",
    "CGTA\"\"\".split()"
   ]
  },
  {
   "cell_type": "code",
   "execution_count": 34,
   "metadata": {},
   "outputs": [
    {
     "name": "stdout",
     "output_type": "stream",
     "text": [
      "The indegree of GTA is 6\n"
     ]
    }
   ],
   "source": [
    "adjacency_list, incoming_edges = construct_de_bruijn_graph(kmers)\n",
    "node = \"GTA\"\n",
    "indegree_gta = count_indegree(node, incoming_edges)\n",
    "\n",
    "print(f\"The indegree of {node} is {indegree_gta}\")"
   ]
  }
 ],
 "metadata": {
  "kernelspec": {
   "display_name": ".venv",
   "language": "python",
   "name": "python3"
  },
  "language_info": {
   "codemirror_mode": {
    "name": "ipython",
    "version": 3
   },
   "file_extension": ".py",
   "mimetype": "text/x-python",
   "name": "python",
   "nbconvert_exporter": "python",
   "pygments_lexer": "ipython3",
   "version": "3.10.9"
  }
 },
 "nbformat": 4,
 "nbformat_minor": 2
}
