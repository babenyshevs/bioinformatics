{
 "cells": [
  {
   "cell_type": "code",
   "execution_count": 1,
   "metadata": {},
   "outputs": [],
   "source": [
    "%load_ext autoreload\n",
    "%autoreload 2"
   ]
  },
  {
   "cell_type": "markdown",
   "metadata": {},
   "source": [
    "# IMPORTS"
   ]
  },
  {
   "cell_type": "code",
   "execution_count": 13,
   "metadata": {},
   "outputs": [],
   "source": [
    "import numpy as np\n",
    "import os\n",
    "from dotenv import load_dotenv\n",
    "\n",
    "from src.features.antibiotics import translate_rna_to_protein, protein_to_dna\n",
    "from src.features.theoretical_spectrum import linear_spectrum, cyclic_spectrum"
   ]
  },
  {
   "cell_type": "code",
   "execution_count": 3,
   "metadata": {},
   "outputs": [
    {
     "data": {
      "text/plain": [
       "True"
      ]
     },
     "execution_count": 3,
     "metadata": {},
     "output_type": "execute_result"
    }
   ],
   "source": [
    "load_dotenv()"
   ]
  },
  {
   "cell_type": "code",
   "execution_count": 4,
   "metadata": {},
   "outputs": [],
   "source": [
    "# os.getenv('RAW_DATA_DIR')"
   ]
  },
  {
   "cell_type": "markdown",
   "metadata": {},
   "source": [
    "# TESTS"
   ]
  },
  {
   "cell_type": "markdown",
   "metadata": {},
   "source": [
    "## test 1"
   ]
  },
  {
   "cell_type": "code",
   "execution_count": 5,
   "metadata": {},
   "outputs": [],
   "source": [
    "rnas = \"\"\"\n",
    "CCACGUACUGAAAUUAAC\n",
    "\n",
    "\n",
    "CCAAGAACAGAUAUCAAU\n",
    "\n",
    "\n",
    "CCGAGGACCGAAAUCAAC\n",
    "\n",
    "\n",
    "CCAAGUACAGAGAUUAAC\"\"\".split()"
   ]
  },
  {
   "cell_type": "code",
   "execution_count": 6,
   "metadata": {},
   "outputs": [
    {
     "name": "stdout",
     "output_type": "stream",
     "text": [
      "PRTEIN: CCACGUACUGAAAUUAAC\n",
      "PRTDIN: CCAAGAACAGAUAUCAAU\n",
      "PRTEIN: CCGAGGACCGAAAUCAAC\n",
      "PSTEIN: CCAAGUACAGAGAUUAAC\n"
     ]
    }
   ],
   "source": [
    "for rna in rnas:\n",
    "    protein = translate_rna_to_protein(rna)\n",
    "    print(f\"{protein}: {rna}\")"
   ]
  },
  {
   "cell_type": "markdown",
   "metadata": {},
   "source": [
    "## test 2"
   ]
  },
  {
   "cell_type": "code",
   "execution_count": 7,
   "metadata": {},
   "outputs": [
    {
     "data": {
      "text/plain": [
       "144"
      ]
     },
     "execution_count": 7,
     "metadata": {},
     "output_type": "execute_result"
    }
   ],
   "source": [
    "dnas = protein_to_dna(\"MASS\")\n",
    "len(dnas.split())"
   ]
  },
  {
   "cell_type": "markdown",
   "metadata": {},
   "source": [
    "## test 3"
   ]
  },
  {
   "cell_type": "code",
   "execution_count": 16,
   "metadata": {},
   "outputs": [],
   "source": [
    "peptides = \"\"\"\n",
    "TAIM\n",
    "\n",
    "\n",
    "ALTM\n",
    "\n",
    "\n",
    "MLAT\n",
    "\n",
    "\n",
    "MTAI\n",
    "\n",
    "\n",
    "TMLA\n",
    "\n",
    "\n",
    "MAIT\"\"\".split()"
   ]
  },
  {
   "cell_type": "code",
   "execution_count": 17,
   "metadata": {},
   "outputs": [
    {
     "name": "stdout",
     "output_type": "stream",
     "text": [
      "TAIM: [0, 71, 101, 113, 131, 172, 184, 232, 244, 285, 303, 315, 345, 416]\n",
      "ALTM: [0, 71, 101, 113, 131, 184, 202, 214, 232, 285, 303, 315, 345, 416]\n",
      "MLAT: [0, 71, 101, 113, 131, 172, 184, 232, 244, 285, 303, 315, 345, 416]\n",
      "MTAI: [0, 71, 101, 113, 131, 172, 184, 232, 244, 285, 303, 315, 345, 416]\n",
      "TMLA: [0, 71, 101, 113, 131, 172, 184, 232, 244, 285, 303, 315, 345, 416]\n",
      "MAIT: [0, 71, 101, 113, 131, 184, 202, 214, 232, 285, 303, 315, 345, 416]\n"
     ]
    }
   ],
   "source": [
    "for peptide in peptides:\n",
    "    spectrum = cyclic_spectrum(peptide)\n",
    "    print(f\"{peptide}: {spectrum}\")"
   ]
  },
  {
   "cell_type": "markdown",
   "metadata": {},
   "source": [
    "## test 4"
   ]
  },
  {
   "cell_type": "code",
   "execution_count": 10,
   "metadata": {},
   "outputs": [],
   "source": [
    "peptides = \"\"\"\n",
    "TCE\n",
    "\n",
    "\n",
    "ETC\n",
    "\n",
    "\n",
    "QCV\n",
    "\n",
    "\n",
    "CTV\n",
    "\n",
    "\n",
    "AQV\n",
    "\n",
    "\n",
    "CTQ\"\"\".split()"
   ]
  },
  {
   "cell_type": "code",
   "execution_count": 14,
   "metadata": {},
   "outputs": [
    {
     "name": "stdout",
     "output_type": "stream",
     "text": [
      "TCE: [0, 101, 103, 129, 204, 232, 333]\n",
      "ETC: [0, 101, 103, 129, 204, 230, 333]\n",
      "QCV: [0, 99, 103, 128, 202, 231, 330]\n",
      "CTV: [0, 99, 101, 103, 200, 204, 303]\n",
      "AQV: [0, 71, 99, 128, 199, 227, 298]\n",
      "CTQ: [0, 101, 103, 128, 204, 229, 332]\n"
     ]
    }
   ],
   "source": [
    "for peptide in peptides:\n",
    "    spectrum = linear_spectrum(peptide)\n",
    "    print(f\"{peptide}: {spectrum}\")"
   ]
  }
 ],
 "metadata": {
  "kernelspec": {
   "display_name": ".venv",
   "language": "python",
   "name": "python3"
  },
  "language_info": {
   "codemirror_mode": {
    "name": "ipython",
    "version": 3
   },
   "file_extension": ".py",
   "mimetype": "text/x-python",
   "name": "python",
   "nbconvert_exporter": "python",
   "pygments_lexer": "ipython3",
   "version": "3.10.9"
  }
 },
 "nbformat": 4,
 "nbformat_minor": 2
}
