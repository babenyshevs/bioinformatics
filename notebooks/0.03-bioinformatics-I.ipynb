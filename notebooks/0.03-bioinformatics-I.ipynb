{
 "cells": [
  {
   "cell_type": "code",
   "execution_count": 6,
   "metadata": {},
   "outputs": [],
   "source": [
    "%load_ext autoreload\n",
    "%autoreload 2"
   ]
  },
  {
   "cell_type": "markdown",
   "metadata": {},
   "source": [
    "# IMPORTS"
   ]
  },
  {
   "cell_type": "code",
   "execution_count": 9,
   "metadata": {},
   "outputs": [],
   "source": [
    "import numpy as np\n",
    "\n",
    "from src.features.motif import (motif_enumeration, \n",
    "                                motif_entropy, \n",
    "                                median_string,\n",
    "                                most_probable_kmer,\n",
    "                                compute_pr,\n",
    "                                greedy_motif_search,\n",
    "                                greedy_motif_search_with_pseudocounts,\n",
    "                                distance_between_pattern_and_strings)\n",
    "from src.data.io import read_text_from_file, print_list"
   ]
  },
  {
   "cell_type": "markdown",
   "metadata": {},
   "source": [
    "# PATHS & NAMES"
   ]
  },
  {
   "cell_type": "code",
   "execution_count": 8,
   "metadata": {},
   "outputs": [],
   "source": [
    "RAWFILE_FOLDER = \"../data/raw/bi_i/w3\"\n",
    "EDA_REPORT_FOLDER = \"../reports\""
   ]
  },
  {
   "cell_type": "markdown",
   "metadata": {},
   "source": [
    "# TESTS"
   ]
  },
  {
   "cell_type": "markdown",
   "metadata": {},
   "source": [
    "## test 1"
   ]
  },
  {
   "cell_type": "code",
   "execution_count": 17,
   "metadata": {},
   "outputs": [
    {
     "name": "stdout",
     "output_type": "stream",
     "text": [
      "TGTGC TGTCC TGTAC TGTTC\n"
     ]
    }
   ],
   "source": [
    "params = read_text_from_file(f\"{RAWFILE_FOLDER}/dataset1.txt\")\n",
    "print_list(motif_enumeration(params['param_2'].split(\" \"),\n",
    "                             int(params['param_1'].split(\" \")[0]), \n",
    "                             int(params['param_1'].split(\" \")[1])))"
   ]
  },
  {
   "cell_type": "markdown",
   "metadata": {},
   "source": [
    "## test 2"
   ]
  },
  {
   "cell_type": "code",
   "execution_count": 34,
   "metadata": {},
   "outputs": [
    {
     "data": {
      "text/plain": [
       "'CAGGCC'"
      ]
     },
     "execution_count": 34,
     "metadata": {},
     "output_type": "execute_result"
    }
   ],
   "source": [
    "params = read_text_from_file(f\"{RAWFILE_FOLDER}/dataset2.txt\")\n",
    "median_string(int(params['param_1']), [s for k, s in params.items() if k != \"param_1\"])"
   ]
  },
  {
   "cell_type": "markdown",
   "metadata": {},
   "source": [
    "## test 3"
   ]
  },
  {
   "cell_type": "code",
   "execution_count": 93,
   "metadata": {},
   "outputs": [
    {
     "data": {
      "text/plain": [
       "'GGCATGAATGCGGC'"
      ]
     },
     "execution_count": 93,
     "metadata": {},
     "output_type": "execute_result"
    }
   ],
   "source": [
    "params = read_text_from_file(f\"{RAWFILE_FOLDER}/dataset3.txt\")\n",
    "most_probable_kmer(params[\"param_1\"],\n",
    "                   int(params[\"param_2\"]),\n",
    "                   [[float(i) for i in s.split(\" \")] for k, s in params.items() if k != \"param_1\" and k != \"param_2\"])"
   ]
  },
  {
   "cell_type": "markdown",
   "metadata": {},
   "source": [
    "## test"
   ]
  },
  {
   "cell_type": "code",
   "execution_count": 10,
   "metadata": {},
   "outputs": [
    {
     "data": {
      "text/plain": [
       "0.0108"
      ]
     },
     "execution_count": 10,
     "metadata": {},
     "output_type": "execute_result"
    }
   ],
   "source": [
    "Profile = {\n",
    "    \"A\": [0.4, 0.3, 0.0, 0.1, 0.0, 0.9],\n",
    "    \"C\": [0.2, 0.3, 0.0, 0.4, 0.0, 0.1],\n",
    "    \"G\": [0.1, 0.3, 1.0, 0.1, 0.5, 0.0],\n",
    "    \"T\": [0.3, 0.1, 0.0, 0.4, 0.5, 0.0],\n",
    "}\n",
    "\n",
    "sequence = \"CAGTGA\"\n",
    "compute_pr(sequence, Profile)"
   ]
  },
  {
   "cell_type": "markdown",
   "metadata": {},
   "source": [
    "## test 4"
   ]
  },
  {
   "cell_type": "code",
   "execution_count": 97,
   "metadata": {},
   "outputs": [
    {
     "name": "stdout",
     "output_type": "stream",
     "text": [
      "GGTGCGGTTGCC TTACCCGTAAAT GCGGTTGACAAA TTTCCCGTGAAG TTACCCGTGAAG TGACCCGTGAAC TGGCCCGTGAAA CCCCCTGAGTAT CACAGTGACCAC TTTCCCGTGAAC TTTCCCGTTAAA TTCCCCGTTAAC TACCCCGTAAAC TGTCCCGTAAAC TCGCCCGTCAAC TACCCCGTTAAC TAGCCCGTGAAA TACCCCGTAAAG TTACCCGTAAAA TCTCCCGTTAAG TGTCCCGTCAAT TTCCCCGTAAAT TTCCCCGTTAAT TGACCCGTGAAG TCTCCCGTAAAA\n"
     ]
    }
   ],
   "source": [
    "params = read_text_from_file(f\"{RAWFILE_FOLDER}/dataset4.txt\")\n",
    "print_list(greedy_motif_search(params[\"param_2\"].split(\" \"),\n",
    "                               int(params['param_1'].split(\" \")[0]), \n",
    "                               int(params['param_1'].split(\" \")[1])))"
   ]
  },
  {
   "cell_type": "markdown",
   "metadata": {},
   "source": [
    "## test 5"
   ]
  },
  {
   "cell_type": "code",
   "execution_count": 102,
   "metadata": {},
   "outputs": [
    {
     "name": "stdout",
     "output_type": "stream",
     "text": [
      "AAAACATACGGG ATAAACTACGGG ATAAAATACGGG ATAAGTTGCGGG ATAACGTGCGGG AGAAGCTCCGGG ATAAGGTACGGG ATAACTTTCGGG ATAAATTCCGGG AGAATCTGCGGG AGAAGCTGCGGG ATAATCTCCGGG ATAAAATCCGGG AGAAGTTCCGGG AAAAAATTCGGG AAAATGTCCGGG AAAAACTTCGGG ATAAAATACGGG AGAAACTCCGGG ATAACGTCCGGG AAAATCTTCGGG ACAAGGTTCGGG ACAATGTCCGGG AGAACGTGCGGG AAAACTTCCGGG\n"
     ]
    }
   ],
   "source": [
    "params = read_text_from_file(f\"{RAWFILE_FOLDER}/dataset5.txt\")\n",
    "print_list(greedy_motif_search_with_pseudocounts(params[\"param_2\"].split(\" \"),\n",
    "                               int(params['param_1'].split(\" \")[0]), \n",
    "                               int(params['param_1'].split(\" \")[1])))"
   ]
  },
  {
   "cell_type": "markdown",
   "metadata": {},
   "source": [
    "## test 6"
   ]
  },
  {
   "cell_type": "code",
   "execution_count": 108,
   "metadata": {},
   "outputs": [
    {
     "data": {
      "text/plain": [
       "77"
      ]
     },
     "execution_count": 108,
     "metadata": {},
     "output_type": "execute_result"
    }
   ],
   "source": [
    "params = read_text_from_file(f\"{RAWFILE_FOLDER}/dataset6.txt\")\n",
    "distance_between_pattern_and_strings(params[\"param_1\"],\n",
    "                                     params[\"param_2\"].split(\" \"))"
   ]
  },
  {
   "cell_type": "markdown",
   "metadata": {},
   "source": [
    "## test 7"
   ]
  },
  {
   "cell_type": "code",
   "execution_count": 96,
   "metadata": {},
   "outputs": [
    {
     "name": "stdout",
     "output_type": "stream",
     "text": [
      "GAATGCCC GTAAACCC GAATTGCC GCATCCCC GCATTGCC ATATGCCC ATATTTCC GTATCCGC GTACCCCC GTATACCA GTTATCCC GTATTGGC GTATTCCG GTATTGAC GTCTTACC CTATTCCG GTACTCCG GCATTCCG TCATTCCC GTATTGCC GAACTCCC AAATTCCC AGATTCCC GAATTACC GTGTACCC GTATTCAC GTAATCTC GTAATCCT TTACTCCC GCTTTCCC GTAGTCAC GTATTCCA GTCTTCCG GTTTTGCC GCATTTCC GTTTTCCC GTATACCT TTATTCCA GTATACGC TTCTTCCC GTGTTCCG ATATTCCT TTTTTCCC ATAATCCC GGAGTCCC GTTTGCCC CTATTTCC ATATTGCC ATATTCGC GAATACCC GTAATCCC ATGTTCCC GTCGTCCC GTTTTCCT GCACTCCC GTAGTCTC GAATTTCC GAATTCGC GCATTCCT GTGTGCCC TTATTCTC GACTTCCC GTGTTCCC GTTTTCAC GTATTACG GTAGTCCA CTATTCCA GCGTTCCC GTATACTC GGATTCCC GGATTCCA GCATTCCC TTATTGCC GTATTAAC GTATTGCT GTCTTCTC CTATTCTC TTATTCCG GGATCCCC GTGCTCCC CTATACCC GTACACCC GTATACAC GCATTCAC GTTTTTCC GTGTTCCA GTAGTCGC TTATTCCC GTATGGCC GTGGTCCC CTATCCCC GGAATCCC ATATTCTC GAGTTCCC GTATTACC ATTTTCCC GTACTCCC GTATATCC GTATTCAT ATATTCAC GTTTTCCG GAATTCCG GTATTCCC GTATTTAC GTATGCGC GTAACCCC GTATTCAA GTATTATC GTAATACC GTAATTCC TTAATCCC TTAGTCCC GTAGTCCT GGATTTCC GTCTTCCC GTCTTCCA GCCTTCCC GTACTACC GTATCGCC GTATTTGC ATATTCCG GGATTACC GAATTCTC GAATTCCA GGATTCTC GTGTTCTC GTGTCCCC CTATTCGC GCATTACC GCATACCC CCATTCCC GTAGTACC CTACTCCC GGTTTCCC GTACTTCC TAATTCCC GTCTTGCC GGATTCGC CTCTTCCC GTCTACCC GTACGCCC GTGTTCAC CTGTTCCC GTACTGCC CTAGTCCC GTAGTCCC CTATTGCC GTATACCG GTATTCAG ATATTACC GCATTCGC GGACTCCC CTAATCCC ATATCCCC GGATTCAC CTATGCCC GTATTGTC GTATAGCC GTAAGCCC GTATTTCG GAAGTCCC ACATTCCC GTTTACCC GTATCCCA GTATTCGT GTATTCTC GTATTGCG GTGTTGCC GTATTTCC GTCTCCCC GTCTTCAC TGATTCCC GTATTCTA CTATTCAC ATATACCC GTACTCCT GTATCACC CAATTCCC ATATTCCC GTCCTCCC GGCTTCCC GAAATCCC CTTTTCCC GTAGTCCG GTAGGCCC GTAATGCC GTTTTACC GTAGTTCC CGATTCCC GTAATCCA GTATGCCG GTATGCTC GCAGTCCC GTATTCTG GTAATCAC GTGTTCCT TTATCCCC GTAGACCC GTAATCGC GTATTCGA GTACTCCA ATACTCCC GTGTTCGC GAATTCCC ATCTTCCC GTATCCCT GTGATCCC GTTTCCCC GATTTCCC GTATGCCT GGATACCC GTAATCCG GTATTCTT GGATTCCG GTCATCCC TTATTCAC GTCTGCCC GTATCCAC GTACTCGC ATATTCCA GTTCTCCC GGATTGCC TTATTCGC GTATTCCT GCATTCCA GTATGCCC GTATCCCG GCATGCCC GGGTTCCC GTTTTCCA TTATACCC GTATCTCC GTCTTTCC GAATTCAC GGATTCCT GTCTTCCT GTATTACT GTATTCGC GTAGCCCC CTATTCCC GTAGTGCC GTATTCGG TTATTACC GTATCCTC GCAATCCC GTATTTTC GTATTGCA GTATTACA GTATCCCC GTTGTCCC CTATTCCT GGATGCCC GTTTTCGC GTACTCAC GTGTTTCC TTGTTCCC CTATTACC GTATTTCT TTATTCCT GTATTTCA GTATGTCC GTTTTCTC GCATTCTC GTCTTCGC TTATTTCC GTATGCAC GTGTTACC TTATGCCC GTACTCTC GTATAACC GTATACCC GTATTAGC GTATGCCA GAATCCCC GTATGACC GAATTCCT ATAGTCCC\n"
     ]
    }
   ],
   "source": [
    "params = read_text_from_file(f\"{RAWFILE_FOLDER}/dataset7.txt\")\n",
    "print_list(neighbors(params[\"param_1\"], int(params[\"param_2\"])))"
   ]
  },
  {
   "cell_type": "markdown",
   "metadata": {},
   "source": [
    "## entropy"
   ]
  },
  {
   "cell_type": "code",
   "execution_count": null,
   "metadata": {},
   "outputs": [],
   "source": [
    "import numpy as np\n",
    "from scipy.stats import entropy\n",
    "base = 2"
   ]
  },
  {
   "cell_type": "code",
   "execution_count": 4,
   "metadata": {},
   "outputs": [
    {
     "data": {
      "text/plain": [
       "0.43949698692151334"
      ]
     },
     "execution_count": 4,
     "metadata": {},
     "output_type": "execute_result"
    }
   ],
   "source": [
    "pk = np.array([0.5, 0,0, 0,5])\n",
    "entropy(pk, base=base)"
   ]
  },
  {
   "cell_type": "code",
   "execution_count": 5,
   "metadata": {},
   "outputs": [
    {
     "data": {
      "text/plain": [
       "2.0"
      ]
     },
     "execution_count": 5,
     "metadata": {},
     "output_type": "execute_result"
    }
   ],
   "source": [
    "pk = np.array([0.25, 0.25, 0.25, 0.25])\n",
    "entropy(pk, base=base)"
   ]
  },
  {
   "cell_type": "code",
   "execution_count": 6,
   "metadata": {},
   "outputs": [
    {
     "data": {
      "text/plain": [
       "0.0"
      ]
     },
     "execution_count": 6,
     "metadata": {},
     "output_type": "execute_result"
    }
   ],
   "source": [
    "pk = np.array([0, 0, 0, 1])\n",
    "entropy(pk, base=base)"
   ]
  },
  {
   "cell_type": "code",
   "execution_count": 7,
   "metadata": {},
   "outputs": [
    {
     "data": {
      "text/plain": [
       "1.5"
      ]
     },
     "execution_count": 7,
     "metadata": {},
     "output_type": "execute_result"
    }
   ],
   "source": [
    "pk = np.array([0.25, 0, 0.5, 0.25])\n",
    "entropy(pk, base=base)"
   ]
  }
 ],
 "metadata": {
  "kernelspec": {
   "display_name": ".venv",
   "language": "python",
   "name": "python3"
  },
  "language_info": {
   "codemirror_mode": {
    "name": "ipython",
    "version": 3
   },
   "file_extension": ".py",
   "mimetype": "text/x-python",
   "name": "python",
   "nbconvert_exporter": "python",
   "pygments_lexer": "ipython3",
   "version": "3.10.9"
  }
 },
 "nbformat": 4,
 "nbformat_minor": 2
}
