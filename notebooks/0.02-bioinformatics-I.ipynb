{
 "cells": [
  {
   "cell_type": "code",
   "execution_count": 1,
   "metadata": {},
   "outputs": [],
   "source": [
    "%load_ext autoreload\n",
    "%autoreload 2"
   ]
  },
  {
   "cell_type": "markdown",
   "metadata": {},
   "source": [
    "# IMPORTS"
   ]
  },
  {
   "cell_type": "code",
   "execution_count": 92,
   "metadata": {},
   "outputs": [],
   "source": [
    "import numpy as np\n",
    "\n",
    "from src.features.replication_origin import (hamming_distance, \n",
    "                                             skew_values, \n",
    "                                             min_skew_indices, \n",
    "                                             approximate_pattern_matching, \n",
    "                                             freq_rc_kmers_in_neighbour,\n",
    "                                             freq_kmers_in_neighbour,\n",
    "                                             neighbors)\n",
    "from src.data.io import read_text_from_file, print_list"
   ]
  },
  {
   "cell_type": "markdown",
   "metadata": {},
   "source": [
    "# PATHS & NAMES"
   ]
  },
  {
   "cell_type": "code",
   "execution_count": 24,
   "metadata": {},
   "outputs": [],
   "source": [
    "RAWFILE_FOLDER = \"../data/raw/bi_i/w2\"\n",
    "EDA_REPORT_FOLDER = \"../reports\""
   ]
  },
  {
   "cell_type": "markdown",
   "metadata": {},
   "source": [
    "# TESTS"
   ]
  },
  {
   "cell_type": "markdown",
   "metadata": {},
   "source": [
    "## test"
   ]
  },
  {
   "cell_type": "code",
   "execution_count": 38,
   "metadata": {},
   "outputs": [
    {
     "name": "stdout",
     "output_type": "stream",
     "text": [
      "0 -1 -1 -1 -1 -2 -3 -3 -2 -2 -2 -3 -3 -3 -4 -3 -3 -3 -2 -2 -2 -1 0 -1 0 0 1 1 1 2 2\n"
     ]
    }
   ],
   "source": [
    "print_list(skew_values(\"CATTCCAGTACTTCGATGATGGCGTGAAGA\"))"
   ]
  },
  {
   "cell_type": "markdown",
   "metadata": {},
   "source": [
    "## test 1"
   ]
  },
  {
   "cell_type": "code",
   "execution_count": 34,
   "metadata": {},
   "outputs": [
    {
     "name": "stdout",
     "output_type": "stream",
     "text": [
      "63309 63310 63312 63313 63314 63317\n"
     ]
    }
   ],
   "source": [
    "params = read_text_from_file(f\"{RAWFILE_FOLDER}/dataset1.txt\")\n",
    "print_list(min_skew_indices(params[\"param_1\"]))"
   ]
  },
  {
   "cell_type": "markdown",
   "metadata": {},
   "source": [
    "## test 2"
   ]
  },
  {
   "cell_type": "code",
   "execution_count": 43,
   "metadata": {},
   "outputs": [
    {
     "data": {
      "text/plain": [
       "794"
      ]
     },
     "execution_count": 43,
     "metadata": {},
     "output_type": "execute_result"
    }
   ],
   "source": [
    "params = read_text_from_file(f\"{RAWFILE_FOLDER}/dataset2.txt\")\n",
    "hamming_distance(params[\"param_1\"], params[\"param_2\"])"
   ]
  },
  {
   "cell_type": "markdown",
   "metadata": {},
   "source": [
    "## test 3"
   ]
  },
  {
   "cell_type": "code",
   "execution_count": 51,
   "metadata": {},
   "outputs": [
    {
     "name": "stdout",
     "output_type": "stream",
     "text": [
      "40 53 64 69 77 78 381 386 390 391 412 432 478 491 492 504 523 565 615 648 669 677 682 690 741 784 789 798 823 881 910 914 922 989 1153 1160 1187 1188 1192 1221 1274 1279 1290 1300 1320 1328 1352 1357 1420 1445 1468 1514 1522 1532 1545 1574 1621 1629 1651 1690 1703 1729 1733 1737 1768 1784 1838 1878 1885 1894 1905 1919 1922 1936 1943 1947 1955 1990 2023 2065 2069 2073 2093 2105 2122 2134 2156 2175 2187 2205 2214 2247 2257 2276 2291 2307 2354 2365 2423 2443 2447 2491 2492 2496 2501 2551 2568 2586 2602 2606 2670 2712 2719 2723 2724 2734 2739 2742 2765 2770 2858 2862 2867 2890 2895 2941 2978 3035 3039 3070 3074 3078 3121 3144 3157 3172 3209 3212 3270 3283 3293 3327 3341 3368 3377 3385 3397 3402 3410 3414 3423 3468 3469 3479 3506 3547 3594 3686 3709 3750 3794 3799 3809 3821 3883 3893 3905 3914 3950 3967 3971 4029 4042 4056 4065 4066 4069 4074 4088 4093 4096 4121 4163 4223 4268 4336 4340 4388 4465 4481 4495 4627 4666 4709 4812 4819 4843 4907 4943 4967 4972 5029 5067 5127 5139 5172 5176 5200 5226 5230 5246 5250 5318 5323 5365 5372 5384 5388 5405 5413 5417 5432 5461 5465 5470 5609 5625 5626 5633 5642 5723 5741 5799 5803 5856 5860 5905 5909 5924 5954 5972 5979 5983 5984 5991 6017 6021 6025 6039 6071 6095 6109 6130 6142 6143 6155 6159 6193 6225 6229 6244 6264 6353 6378 6395 6399 6448 6475 6488 6500 6522 6526 6635 6636 6639 6650 6660 6676 6726 6747 6751 6756 6767 6778 6782 6802 6835 6895 6962 6979 6983 7000 7020 7094 7101 7108 7112 7145 7186 7237 7362 7383 7390 7394 7401 7406 7436 7444 7457 7489 7497 7506 7525 7552 7556 7564 7568 7597 7605 7729 7750 7801 7821 7841 7872 7889 7946 7957 7962 7986 8000 8019 8050 8054 8088 8096 8106 8109 8122 8137 8142 8154 8157 8183 8184 8199 8225 8245 8295 8373 8403 8414 8419 8457 8502 8513 8530 8543 8557 8582 8618 8636 8660 8724 8895 8900 8919 8940 8942 8949 8991 8995 9007 9038 9068 9078 9084 9086 9104 9109 9119 9120 9124 9158 9162 9174 9178 9182 9215 9223 9235 9258 9275 9283 9291 9295 9299 9311 9334 9339 9340 9350 9391 9411 9432 9450 9514 9519 9523 9527 9544 9604 9609 9618 9625 9648 9656 9678 9718 9742 9746 9754 9758 9772 9777 9789 9812 9821 9826 9871 9899 9916 9924 9934 9935 9985 10015 10016 10075 10115 10142 10155 10163 10179 10183 10198 10217 10221 10226 10227 10260 10268 10309 10364 10375 10418 10449 10475 10481 10498 10524 10596 10609 10613 10614 10650 10668 10675 10691 10703 10704 10750 10765 10771 10791 10806 10816 10861 10865 10878 10886 10897 10915 11001 11021 11032 11058 11108 11125 11151 11156 11184 11189 11240 11247 11255 11263 11267 11282 11298 11340 11344 11355 11369 11370 11392 11396 11404 11408 11441 11493 11508 11548 11560 11564 11595 11620 11657 11671 11707 11723 11745 11823 11838 11849 11853 11858 11894 11909 11913 11927 11953 11960 11961 12003 12011 12032 12036 12040 12044 12068 12080 12086 12117 12122 12143 12147 12150 12159 12160 12179 12201 12228 12234 12238 12255 12292 12347 12429 12435 12457 12473 12494 12498 12499 12504 12509 12520 12536 12547 12583 12625 12673 12712 12717 12736 12794 12795 12846 12865 12882 12907 12912 12934 12962 12978 12996 13009 13052 13148 13153 13167 13171 13174 13179 13208 13209 13227 13266 13295 13306 13330 13365 13379 13457 13465 13489 13493 13503 13526 13553 13567 13578 13587 13595 13599 13614 13615 13619 13639 13673 13685 13704 13742 13750 13758 13764 13768 13772 13798 13811 13820 13855 13881 13903 13914 13919 13952 13992 14007 14011 14012 14075 14090 14105 14109 14113 14118 14129 14145 14173 14192 14196 14200 14206 14224 14281 14311 14356 14362 14403 14421 14425 14459 14497 14507 14526 14530 14537 14541 14550 14564 14573 14586 14602 14605 14630 14636 14644 14647 14651 14669 14675 14729 14739 14761 14787 14862 14896 14899 14904 14913 14919 14941 14951 14955 14969 15030 15041 15055 15112 15124 15147 15154 15167 15172 15183 15219 15240 15245 15246 15250 15268 15278 15283 15299 15351 15432 15437 15443 15511 15515 15528 15543 15574 15619 15649 15653 15654 15703 15707 15732 15840 15845 15903 15919 15933 15940 15944 15961 15965 15977 15981 16019 16023 16024 16035 16039 16047 16052 16074 16140 16195 16241 16255 16264 16274 16282 16355 16429 16436 16462 16474 16482 16486 16502 16511 16517 16543 16568 16577 16622 16662 16667 16692 16701 16738 16754 16786 16802 16817 16833 16869 16883 16887 16900 16901 16906 16922 16936 16968 16998 17027 17049 17054 17066 17128 17129 17170 17189 17197 17216 17219 17221 17232 17256 17267 17275 17279 17285 17286 17289 17327 17338 17344 17352 17457 17494 17534 17547 17565 17647 17675 17784 17788 17867 17903 18009 18027 18055 18058 18068 18069 18077\n"
     ]
    }
   ],
   "source": [
    "params = read_text_from_file(f\"{RAWFILE_FOLDER}/dataset3.txt\")\n",
    "print_list(approximate_pattern_matching(params[\"param_1\"], params[\"param_2\"], int(params[\"param_3\"])))"
   ]
  },
  {
   "cell_type": "markdown",
   "metadata": {},
   "source": [
    "## test"
   ]
  },
  {
   "cell_type": "code",
   "execution_count": 58,
   "metadata": {},
   "outputs": [
    {
     "data": {
      "text/plain": [
       "4"
      ]
     },
     "execution_count": 58,
     "metadata": {},
     "output_type": "execute_result"
    }
   ],
   "source": [
    "len(approximate_pattern_matching(\"AAAAA\" ,\"AACAAGCTGATAAACATTTAAAGAG\" ,2))"
   ]
  },
  {
   "cell_type": "markdown",
   "metadata": {},
   "source": [
    "## test 4"
   ]
  },
  {
   "cell_type": "code",
   "execution_count": 60,
   "metadata": {},
   "outputs": [
    {
     "data": {
      "text/plain": [
       "66"
      ]
     },
     "execution_count": 60,
     "metadata": {},
     "output_type": "execute_result"
    }
   ],
   "source": [
    "params = read_text_from_file(f\"{RAWFILE_FOLDER}/dataset4.txt\")\n",
    "len(approximate_pattern_matching(params[\"param_1\"], params[\"param_2\"], int(params[\"param_3\"])))"
   ]
  },
  {
   "cell_type": "markdown",
   "metadata": {},
   "source": [
    "## test 5"
   ]
  },
  {
   "cell_type": "code",
   "execution_count": 75,
   "metadata": {},
   "outputs": [
    {
     "name": "stdout",
     "output_type": "stream",
     "text": [
      "TGCTG\n"
     ]
    }
   ],
   "source": [
    "params = read_text_from_file(f\"{RAWFILE_FOLDER}/dataset5.txt\")\n",
    "print_list(freq_kmers_in_neighbour(params[\"param_1\"], 5, 2))"
   ]
  },
  {
   "cell_type": "markdown",
   "metadata": {},
   "source": [
    "## test 6"
   ]
  },
  {
   "cell_type": "code",
   "execution_count": 91,
   "metadata": {},
   "outputs": [
    {
     "name": "stdout",
     "output_type": "stream",
     "text": [
      "CCCCC GGGGG\n"
     ]
    }
   ],
   "source": [
    "params = read_text_from_file(f\"{RAWFILE_FOLDER}/dataset6.txt\")\n",
    "print_list(freq_rc_kmers_in_neighbour(params[\"param_1\"], 5, 2))"
   ]
  },
  {
   "cell_type": "markdown",
   "metadata": {},
   "source": [
    "## test 7"
   ]
  },
  {
   "cell_type": "code",
   "execution_count": 96,
   "metadata": {},
   "outputs": [
    {
     "name": "stdout",
     "output_type": "stream",
     "text": [
      "GAATGCCC GTAAACCC GAATTGCC GCATCCCC GCATTGCC ATATGCCC ATATTTCC GTATCCGC GTACCCCC GTATACCA GTTATCCC GTATTGGC GTATTCCG GTATTGAC GTCTTACC CTATTCCG GTACTCCG GCATTCCG TCATTCCC GTATTGCC GAACTCCC AAATTCCC AGATTCCC GAATTACC GTGTACCC GTATTCAC GTAATCTC GTAATCCT TTACTCCC GCTTTCCC GTAGTCAC GTATTCCA GTCTTCCG GTTTTGCC GCATTTCC GTTTTCCC GTATACCT TTATTCCA GTATACGC TTCTTCCC GTGTTCCG ATATTCCT TTTTTCCC ATAATCCC GGAGTCCC GTTTGCCC CTATTTCC ATATTGCC ATATTCGC GAATACCC GTAATCCC ATGTTCCC GTCGTCCC GTTTTCCT GCACTCCC GTAGTCTC GAATTTCC GAATTCGC GCATTCCT GTGTGCCC TTATTCTC GACTTCCC GTGTTCCC GTTTTCAC GTATTACG GTAGTCCA CTATTCCA GCGTTCCC GTATACTC GGATTCCC GGATTCCA GCATTCCC TTATTGCC GTATTAAC GTATTGCT GTCTTCTC CTATTCTC TTATTCCG GGATCCCC GTGCTCCC CTATACCC GTACACCC GTATACAC GCATTCAC GTTTTTCC GTGTTCCA GTAGTCGC TTATTCCC GTATGGCC GTGGTCCC CTATCCCC GGAATCCC ATATTCTC GAGTTCCC GTATTACC ATTTTCCC GTACTCCC GTATATCC GTATTCAT ATATTCAC GTTTTCCG GAATTCCG GTATTCCC GTATTTAC GTATGCGC GTAACCCC GTATTCAA GTATTATC GTAATACC GTAATTCC TTAATCCC TTAGTCCC GTAGTCCT GGATTTCC GTCTTCCC GTCTTCCA GCCTTCCC GTACTACC GTATCGCC GTATTTGC ATATTCCG GGATTACC GAATTCTC GAATTCCA GGATTCTC GTGTTCTC GTGTCCCC CTATTCGC GCATTACC GCATACCC CCATTCCC GTAGTACC CTACTCCC GGTTTCCC GTACTTCC TAATTCCC GTCTTGCC GGATTCGC CTCTTCCC GTCTACCC GTACGCCC GTGTTCAC CTGTTCCC GTACTGCC CTAGTCCC GTAGTCCC CTATTGCC GTATACCG GTATTCAG ATATTACC GCATTCGC GGACTCCC CTAATCCC ATATCCCC GGATTCAC CTATGCCC GTATTGTC GTATAGCC GTAAGCCC GTATTTCG GAAGTCCC ACATTCCC GTTTACCC GTATCCCA GTATTCGT GTATTCTC GTATTGCG GTGTTGCC GTATTTCC GTCTCCCC GTCTTCAC TGATTCCC GTATTCTA CTATTCAC ATATACCC GTACTCCT GTATCACC CAATTCCC ATATTCCC GTCCTCCC GGCTTCCC GAAATCCC CTTTTCCC GTAGTCCG GTAGGCCC GTAATGCC GTTTTACC GTAGTTCC CGATTCCC GTAATCCA GTATGCCG GTATGCTC GCAGTCCC GTATTCTG GTAATCAC GTGTTCCT TTATCCCC GTAGACCC GTAATCGC GTATTCGA GTACTCCA ATACTCCC GTGTTCGC GAATTCCC ATCTTCCC GTATCCCT GTGATCCC GTTTCCCC GATTTCCC GTATGCCT GGATACCC GTAATCCG GTATTCTT GGATTCCG GTCATCCC TTATTCAC GTCTGCCC GTATCCAC GTACTCGC ATATTCCA GTTCTCCC GGATTGCC TTATTCGC GTATTCCT GCATTCCA GTATGCCC GTATCCCG GCATGCCC GGGTTCCC GTTTTCCA TTATACCC GTATCTCC GTCTTTCC GAATTCAC GGATTCCT GTCTTCCT GTATTACT GTATTCGC GTAGCCCC CTATTCCC GTAGTGCC GTATTCGG TTATTACC GTATCCTC GCAATCCC GTATTTTC GTATTGCA GTATTACA GTATCCCC GTTGTCCC CTATTCCT GGATGCCC GTTTTCGC GTACTCAC GTGTTTCC TTGTTCCC CTATTACC GTATTTCT TTATTCCT GTATTTCA GTATGTCC GTTTTCTC GCATTCTC GTCTTCGC TTATTTCC GTATGCAC GTGTTACC TTATGCCC GTACTCTC GTATAACC GTATACCC GTATTAGC GTATGCCA GAATCCCC GTATGACC GAATTCCT ATAGTCCC\n"
     ]
    }
   ],
   "source": [
    "params = read_text_from_file(f\"{RAWFILE_FOLDER}/dataset7.txt\")\n",
    "print_list(neighbors(params[\"param_1\"], int(params[\"param_2\"])))"
   ]
  }
 ],
 "metadata": {
  "kernelspec": {
   "display_name": ".venv",
   "language": "python",
   "name": "python3"
  },
  "language_info": {
   "codemirror_mode": {
    "name": "ipython",
    "version": 3
   },
   "file_extension": ".py",
   "mimetype": "text/x-python",
   "name": "python",
   "nbconvert_exporter": "python",
   "pygments_lexer": "ipython3",
   "version": "3.10.9"
  }
 },
 "nbformat": 4,
 "nbformat_minor": 2
}
